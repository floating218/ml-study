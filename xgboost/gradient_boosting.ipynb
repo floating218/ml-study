{
 "cells": [
  {
   "cell_type": "code",
   "execution_count": null,
   "metadata": {},
   "outputs": [],
   "source": [
    "#도움: https://github.com/rickiepark/handson-gb/blob/main/Chapter04/Gradient_Boosting.ipynb"
   ]
  },
  {
   "cell_type": "markdown",
   "metadata": {},
   "source": [
    "# 그래디언트 부스팅\n",
    "- target을 예측하는 모델 외에, 잔차를 예측하는 모델을 더 만든다. \n",
    "- 초반의 잔차 예측 모델은 더 많이 들쭉"
   ]
  },
  {
   "cell_type": "code",
   "execution_count": 1,
   "metadata": {},
   "outputs": [],
   "source": [
    "# pandas와 numpy 임포트하기\n",
    "import pandas as pd\n",
    "import numpy as np\n",
    "\n",
    "# 경고 끄기\n",
    "import warnings\n",
    "warnings.filterwarnings('ignore')"
   ]
  },
  {
   "cell_type": "code",
   "execution_count": 3,
   "metadata": {},
   "outputs": [
    {
     "data": {
      "text/html": [
       "<div>\n",
       "<style scoped>\n",
       "    .dataframe tbody tr th:only-of-type {\n",
       "        vertical-align: middle;\n",
       "    }\n",
       "\n",
       "    .dataframe tbody tr th {\n",
       "        vertical-align: top;\n",
       "    }\n",
       "\n",
       "    .dataframe thead th {\n",
       "        text-align: right;\n",
       "    }\n",
       "</style>\n",
       "<table border=\"1\" class=\"dataframe\">\n",
       "  <thead>\n",
       "    <tr style=\"text-align: right;\">\n",
       "      <th></th>\n",
       "      <th>instant</th>\n",
       "      <th>season</th>\n",
       "      <th>yr</th>\n",
       "      <th>mnth</th>\n",
       "      <th>holiday</th>\n",
       "      <th>weekday</th>\n",
       "      <th>workingday</th>\n",
       "      <th>weathersit</th>\n",
       "      <th>temp</th>\n",
       "      <th>atemp</th>\n",
       "      <th>hum</th>\n",
       "      <th>windspeed</th>\n",
       "      <th>cnt</th>\n",
       "    </tr>\n",
       "  </thead>\n",
       "  <tbody>\n",
       "    <tr>\n",
       "      <th>0</th>\n",
       "      <td>1</td>\n",
       "      <td>1.0</td>\n",
       "      <td>0.0</td>\n",
       "      <td>1.0</td>\n",
       "      <td>0.0</td>\n",
       "      <td>6.0</td>\n",
       "      <td>0.0</td>\n",
       "      <td>2</td>\n",
       "      <td>0.344167</td>\n",
       "      <td>0.363625</td>\n",
       "      <td>0.805833</td>\n",
       "      <td>0.160446</td>\n",
       "      <td>985</td>\n",
       "    </tr>\n",
       "    <tr>\n",
       "      <th>1</th>\n",
       "      <td>2</td>\n",
       "      <td>1.0</td>\n",
       "      <td>0.0</td>\n",
       "      <td>1.0</td>\n",
       "      <td>0.0</td>\n",
       "      <td>0.0</td>\n",
       "      <td>0.0</td>\n",
       "      <td>2</td>\n",
       "      <td>0.363478</td>\n",
       "      <td>0.353739</td>\n",
       "      <td>0.696087</td>\n",
       "      <td>0.248539</td>\n",
       "      <td>801</td>\n",
       "    </tr>\n",
       "    <tr>\n",
       "      <th>2</th>\n",
       "      <td>3</td>\n",
       "      <td>1.0</td>\n",
       "      <td>0.0</td>\n",
       "      <td>1.0</td>\n",
       "      <td>0.0</td>\n",
       "      <td>1.0</td>\n",
       "      <td>1.0</td>\n",
       "      <td>1</td>\n",
       "      <td>0.196364</td>\n",
       "      <td>0.189405</td>\n",
       "      <td>0.437273</td>\n",
       "      <td>0.248309</td>\n",
       "      <td>1349</td>\n",
       "    </tr>\n",
       "    <tr>\n",
       "      <th>3</th>\n",
       "      <td>4</td>\n",
       "      <td>1.0</td>\n",
       "      <td>0.0</td>\n",
       "      <td>1.0</td>\n",
       "      <td>0.0</td>\n",
       "      <td>2.0</td>\n",
       "      <td>1.0</td>\n",
       "      <td>1</td>\n",
       "      <td>0.200000</td>\n",
       "      <td>0.212122</td>\n",
       "      <td>0.590435</td>\n",
       "      <td>0.160296</td>\n",
       "      <td>1562</td>\n",
       "    </tr>\n",
       "    <tr>\n",
       "      <th>4</th>\n",
       "      <td>5</td>\n",
       "      <td>1.0</td>\n",
       "      <td>0.0</td>\n",
       "      <td>1.0</td>\n",
       "      <td>0.0</td>\n",
       "      <td>3.0</td>\n",
       "      <td>1.0</td>\n",
       "      <td>1</td>\n",
       "      <td>0.226957</td>\n",
       "      <td>0.229270</td>\n",
       "      <td>0.436957</td>\n",
       "      <td>0.186900</td>\n",
       "      <td>1600</td>\n",
       "    </tr>\n",
       "  </tbody>\n",
       "</table>\n",
       "</div>"
      ],
      "text/plain": [
       "   instant  season   yr  mnth  holiday  weekday  workingday  weathersit  \\\n",
       "0        1     1.0  0.0   1.0      0.0      6.0         0.0           2   \n",
       "1        2     1.0  0.0   1.0      0.0      0.0         0.0           2   \n",
       "2        3     1.0  0.0   1.0      0.0      1.0         1.0           1   \n",
       "3        4     1.0  0.0   1.0      0.0      2.0         1.0           1   \n",
       "4        5     1.0  0.0   1.0      0.0      3.0         1.0           1   \n",
       "\n",
       "       temp     atemp       hum  windspeed   cnt  \n",
       "0  0.344167  0.363625  0.805833   0.160446   985  \n",
       "1  0.363478  0.353739  0.696087   0.248539   801  \n",
       "2  0.196364  0.189405  0.437273   0.248309  1349  \n",
       "3  0.200000  0.212122  0.590435   0.160296  1562  \n",
       "4  0.226957  0.229270  0.436957   0.186900  1600  "
      ]
     },
     "execution_count": 3,
     "metadata": {},
     "output_type": "execute_result"
    }
   ],
   "source": [
    "df_bikes = pd.read_csv('../data/bike_rentals_cleaned.csv')\n",
    "df_bikes.head()"
   ]
  },
  {
   "cell_type": "code",
   "execution_count": 8,
   "metadata": {},
   "outputs": [
    {
     "data": {
      "text/plain": [
       "(     instant  season   yr  mnth  holiday  weekday  workingday  weathersit  \\\n",
       " 203      204     3.0  0.0   7.0      0.0      6.0         0.0           1   \n",
       " 634      635     4.0  1.0   9.0      0.0      3.0         1.0           1   \n",
       " 544      545     3.0  1.0   6.0      0.0      4.0         1.0           1   \n",
       " 12        13     1.0  0.0   1.0      0.0      4.0         1.0           1   \n",
       " 171      172     3.0  0.0   6.0      0.0      2.0         1.0           2   \n",
       " \n",
       "          temp     atemp       hum  windspeed  \n",
       " 203  0.849167  0.804287  0.500000   0.131221  \n",
       " 634  0.635000  0.596613  0.630833   0.244400  \n",
       " 544  0.749167  0.675512  0.422500   0.171650  \n",
       " 12   0.165000  0.150883  0.470417   0.301000  \n",
       " 171  0.680833  0.637646  0.770417   0.171025  ,\n",
       " 203    3285\n",
       " 634    7733\n",
       " 544    6879\n",
       " 12     1406\n",
       " 171    4835\n",
       " Name: cnt, dtype: int64)"
      ]
     },
     "execution_count": 8,
     "metadata": {},
     "output_type": "execute_result"
    }
   ],
   "source": [
    "# 데이터를 X와 y로 나눕니다.\n",
    "X_bikes = df_bikes.iloc[:,:-1]\n",
    "y_bikes = df_bikes.iloc[:,-1]\n",
    "\n",
    "# train_test_split를 임포트합니다.\n",
    "from sklearn.model_selection import train_test_split\n",
    "\n",
    "# 데이터를 훈련 세트와 테스트 세트로 나눕니다.\n",
    "X_train, X_test, y_train, y_test = train_test_split(X_bikes, y_bikes, random_state=2)\n",
    "\n",
    "X_train.head(), y_train.head()"
   ]
  },
  {
   "cell_type": "code",
   "execution_count": 9,
   "metadata": {},
   "outputs": [
    {
     "data": {
      "text/plain": [
       "911.0479538776444"
      ]
     },
     "execution_count": 9,
     "metadata": {},
     "output_type": "execute_result"
    }
   ],
   "source": [
    "# DecisionTreeRegressor를 임포트합니다.\n",
    "from sklearn.tree import DecisionTreeRegressor\n",
    "\n",
    "# mean_squared_error를 임포트합니다.\n",
    "from sklearn.metrics import mean_squared_error as MSE\n",
    "\n",
    "# step1: Decision Tree 회귀 모델을 만들어서, target을 예측하게 훈련시키기\n",
    "tree_1 = DecisionTreeRegressor(max_depth=2, random_state=2)\n",
    "tree_1.fit(X_train, y_train)\n",
    "y_train_pred = tree_1.predict(X_train) # 훈련셋에 대해 그대로 예측한 결과\n",
    "y2_train = y_train - y_train_pred # 훈련셋에 대한 잔차 (예측값 - 실제값)를 계산한 것\n",
    "\n",
    "# step2: Decision Tree (2번쨰) 모델을 만들어서, 이전 모델에서의 잔차를 예측하게 훈련시키기\n",
    "tree_2 = DecisionTreeRegressor(max_depth=2, random_state=2)\n",
    "tree_2.fit(X_train, y2_train)\n",
    "y2_train_pred = tree_2.predict(X_train)\n",
    "y3_train = y2_train - y2_train_pred\n",
    "\n",
    "# step3: Decision Tree (3번쨰) 모델을 만들어서, 이전 모델에서의 잔차를 예측하게 훈련시키기\n",
    "tree_3 = DecisionTreeRegressor(max_depth=2, random_state=2)\n",
    "tree_3.fit(X_train, y3_train)\n",
    "\n",
    "# step4: 실제 예측 시에는 첫모델(target 예측) + 2모델(잔차 예측) + 3모델(잔차 예측)한 것을 더한다.\n",
    "y_pred = tree_1.predict(X_test) + tree_2.predict(X_test) + tree_3.predict(X_test)\n",
    "\n",
    "\n",
    "# 평균 제곱근 오차를 계산합니다.\n",
    "MSE(y_test, y_pred)**0.5"
   ]
  },
  {
   "cell_type": "code",
   "execution_count": 12,
   "metadata": {},
   "outputs": [
    {
     "data": {
      "text/plain": [
       "911.0479538776432"
      ]
     },
     "execution_count": 12,
     "metadata": {},
     "output_type": "execute_result"
    }
   ],
   "source": [
    "from sklearn.metrics import mean_squared_error\n",
    "\n",
    "# 첫번째 모델에서 타겟 대신 타겟과 타겟 평균 사이의 차이를 예측\n",
    "res_1 = y_train - np.mean(y_train)\n",
    "tree_1.fit(X_train, res_1)\n",
    "pred_1 = tree_1.predict(X_train)\n",
    "\n",
    "# 두번째 모델부터는 마찬가지로 잔차를 예측\n",
    "res_2 = y_train - pred_1\n",
    "tree_2.fit(X_train, res_2)\n",
    "pred_2 = tree_2.predict(X_train)\n",
    "\n",
    "# 세번째 모델부터는 마찬가지로 잔차를 예측\n",
    "res_3 = y_train - (pred_1 + pred_2)\n",
    "tree_3.fit(X_train, res_3)\n",
    "\n",
    "# 실제 예측 결과는 첫모델(target 예측) + 2모델(잔차 예측) + 3모델(잔차 예측)한 것을 더한다.\n",
    "pred_all = tree_1.predict(X_test) + tree_2.predict(X_test) + tree_3.predict(X_test)\n",
    "MSE(y_test, pred_all)**0.5 #mean_squared_error(y_test, pred_all, squared=False)"
   ]
  },
  {
   "cell_type": "code",
   "execution_count": 7,
   "metadata": {},
   "outputs": [
    {
     "data": {
      "text/plain": [
       "911.0479538776439"
      ]
     },
     "execution_count": 7,
     "metadata": {},
     "output_type": "execute_result"
    }
   ],
   "source": [
    "from sklearn.ensemble import GradientBoostingRegressor\n",
    "\n",
    "gbr = GradientBoostingRegressor(max_depth=2, n_estimators=3, \n",
    "                                random_state=2, learning_rate=1.0)\n",
    "\n",
    "gbr.fit(X_train, y_train)\n",
    "\n",
    "# 테스트 데이터에 대한 예측을 만듭니다.\n",
    "y_pred = gbr.predict(X_test)\n",
    "\n",
    "# 평균 제곱근 오차를 계산합니다.\n",
    "MSE(y_test, y_pred)**0.5"
   ]
  },
  {
   "cell_type": "code",
   "execution_count": 13,
   "metadata": {},
   "outputs": [
    {
     "name": "stdout",
     "output_type": "stream",
     "text": [
      "최상의 매개변수: {'subsample': 0.65, 'n_estimators': 300, 'learning_rate': 0.05}\n",
      "훈련 점수: 636.200\n",
      "테스트 세트 점수: 625.985\n"
     ]
    }
   ],
   "source": [
    "import matplotlib.pyplot as plt\n",
    "import seaborn as sns\n",
    "\n",
    "params = {'subsample':[0.65, 0.7, 0.75],\n",
    "          'n_estimators':[300, 500, 1000],\n",
    "          'learning_rate':[0.05, 0.075, 0.1]}\n",
    "\n",
    "# RandomizedSearchCV를 임포트합니다.\n",
    "from sklearn.model_selection import RandomizedSearchCV\n",
    "\n",
    "gbr = GradientBoostingRegressor(max_depth=3, random_state=2)\n",
    "\n",
    "\n",
    "# RandomizedSearchCV를 초기화합니다.\n",
    "rand_reg = RandomizedSearchCV(gbr, params, n_iter=10, \n",
    "                              scoring='neg_mean_squared_error', \n",
    "                              cv=5, n_jobs=-1, random_state=2)\n",
    "\n",
    "# X_train와 y_train로 rand_reg를 훈련합니다.\n",
    "rand_reg.fit(X_train, y_train)\n",
    "\n",
    "# 최상의 모델을 추출합니다.\n",
    "best_model = rand_reg.best_estimator_\n",
    "\n",
    "# 최상의 매개변수를 추출합니다.\n",
    "best_params = rand_reg.best_params_\n",
    "\n",
    "# 최상의 매개변수를 출력합니다.\n",
    "print(\"최상의 매개변수:\", best_params)\n",
    "\n",
    "# 최상의 점수를 계산합니다.\n",
    "best_score = np.sqrt(-rand_reg.best_score_)\n",
    "\n",
    "# 최상의 점수를 출력합니다.\n",
    "print(\"훈련 점수: {:.3f}\".format(best_score))\n",
    "\n",
    "# 테스트 세트에 대한 예측을 만듭니다.\n",
    "y_pred = best_model.predict(X_test)\n",
    "\n",
    "# 평균 제곱근 오차를 계산합니다.\n",
    "rmse_test = MSE(y_test, y_pred)**0.5\n",
    "\n",
    "# 평균 제곱근 오차를 출력합니다.\n",
    "print('테스트 세트 점수: {:.3f}'.format(rmse_test))"
   ]
  },
  {
   "cell_type": "code",
   "execution_count": 14,
   "metadata": {},
   "outputs": [
    {
     "data": {
      "text/plain": [
       "596.9544588974487"
      ]
     },
     "execution_count": 14,
     "metadata": {},
     "output_type": "execute_result"
    }
   ],
   "source": [
    "gbr = GradientBoostingRegressor(max_depth=3, n_estimators=1600, \n",
    "                                subsample=0.75, learning_rate=0.02, \n",
    "                                random_state=2)\n",
    "gbr.fit(X_train, y_train)\n",
    "y_pred = gbr.predict(X_test)\n",
    "MSE(y_test, y_pred)**0.5"
   ]
  },
  {
   "cell_type": "code",
   "execution_count": null,
   "metadata": {},
   "outputs": [],
   "source": []
  }
 ],
 "metadata": {
  "kernelspec": {
   "display_name": "Python 3.9.6 64-bit",
   "language": "python",
   "name": "python3"
  },
  "language_info": {
   "codemirror_mode": {
    "name": "ipython",
    "version": 3
   },
   "file_extension": ".py",
   "mimetype": "text/x-python",
   "name": "python",
   "nbconvert_exporter": "python",
   "pygments_lexer": "ipython3",
   "version": "3.9.6"
  },
  "orig_nbformat": 4,
  "vscode": {
   "interpreter": {
    "hash": "4d97dfac72b5344da9592506e8ae21cbbdfd9437ca0e05329aac99300b906c4a"
   }
  }
 },
 "nbformat": 4,
 "nbformat_minor": 2
}
